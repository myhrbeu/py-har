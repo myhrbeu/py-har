{
 "cells": [
  {
   "cell_type": "code",
   "execution_count": 28,
   "metadata": {},
   "outputs": [],
   "source": [
    "### This function downloads Google Drive Shared Files By Passing Its Sharing Link And The Desired Destination Path\n",
    "###\n",
    "## https://github.com/ndrplz/google-drive-downloader\n",
    "## download datasets: pip install googledrivedownloader\n",
    "def download_from_google_drive(id, destPath):\n",
    "    \"\"\"This function downloads Google Drive Shared Files By Passing Its Sharing Link And The Desired Destination Path     \"\"\"\n",
    "    ## confirm if the file already exists.\n",
    "    import os.path\n",
    "    if os.path.isfile(destPath):\n",
    "        print(\"The File Already Exists. Please Change The Path Destination.\");\n",
    "        return False;\n",
    "    # then download the file\n",
    "    from google_drive_downloader import GoogleDriveDownloader as gdd\n",
    "    gdd.download_file_from_google_drive(file_id=id,\n",
    "                                        dest_path=destPath);\n",
    "    ## confirm if the file was saved\n",
    "    if os.path.isfile(destPath):\n",
    "        print(\"Success Downloading File.\");\n",
    "        return True;\n",
    "    else:\n",
    "        print(\"The File Couldnt Be Downloaded. Please Confirm If The Parameters Are Correct.\");\n",
    "        return False;"
   ]
  },
  {
   "cell_type": "code",
   "execution_count": 29,
   "metadata": {},
   "outputs": [
    {
     "name": "stdout",
     "output_type": "stream",
     "text": [
      "Help on function download_from_google_drive in module __main__:\n",
      "\n",
      "download_from_google_drive(id, destPath)\n",
      "    This function downloads Google Drive Shared Files By Passing Its Sharing Link And The Desired Destination Path\n",
      "\n"
     ]
    }
   ],
   "source": []
  }
 ],
 "metadata": {
  "kernelspec": {
   "display_name": "Python 3",
   "language": "python",
   "name": "python3"
  },
  "language_info": {
   "codemirror_mode": {
    "name": "ipython",
    "version": 3
   },
   "file_extension": ".py",
   "mimetype": "text/x-python",
   "name": "python",
   "nbconvert_exporter": "python",
   "pygments_lexer": "ipython3",
   "version": "3.6.1"
  }
 },
 "nbformat": 4,
 "nbformat_minor": 2
}
