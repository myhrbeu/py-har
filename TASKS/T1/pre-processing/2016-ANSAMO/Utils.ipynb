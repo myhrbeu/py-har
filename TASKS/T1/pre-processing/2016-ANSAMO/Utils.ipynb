{
 "cells": [
  {
   "cell_type": "code",
   "execution_count": 7,
   "metadata": {},
   "outputs": [
    {
     "name": "stdout",
     "output_type": "stream",
     "text": [
      "Downloading 1fuMxj-dnMXEPHGhHwuQoNjBovO_v5Kdk into ./Dataset/adsa.zip... Done.\n",
      "Success Downloading File.\n"
     ]
    }
   ],
   "source": [
    "### This function downloads Google Drive Shared Files By Passing Its Sharing Link And The Desired Destination Path\n",
    "###\n",
    "## https://github.com/ndrplz/google-drive-downloader\n",
    "## download datasets: pip install googledrivedownloader\n",
    "def download_from_google_drive(id, destPath):\n",
    "    \"\"\"This function downloads Google Drive Shared Files By Passing Its Sharing Link And The Desired Destination Path     \"\"\"\n",
    "    ## confirm if the file already exists.\n",
    "    import os.path\n",
    "    if os.path.isfile(destPath):\n",
    "        print(\"The File Already Exists. Please Change The Path Destination.\");\n",
    "        return False;\n",
    "    # then download the file arguments = (file_id, dest_path, overwrite=False, unzip=False)\n",
    "    from google_drive_downloader import GoogleDriveDownloader as gdd\n",
    "    gdd.download_file_from_google_drive(file_id=id,\n",
    "                                        dest_path=destPath);\n",
    "    ## confirm if the file was saved\n",
    "    if os.path.isfile(destPath):\n",
    "        print(\"Success Downloading File.\");\n",
    "        return True;\n",
    "    else:\n",
    "        print(\"The File Couldnt Be Downloaded. Please Confirm If The Parameters Are Correct.\");\n",
    "        return False;\n",
    "###download_from_google_drive('1fuMxj-dnMXEPHGhHwuQoNjBovO_v5Kdk', './Dataset/adsa.zip');"
   ]
  },
  {
   "cell_type": "code",
   "execution_count": null,
   "metadata": {},
   "outputs": [],
   "source": []
  }
 ],
 "metadata": {
  "kernelspec": {
   "display_name": "Python 3",
   "language": "python",
   "name": "python3"
  },
  "language_info": {
   "codemirror_mode": {
    "name": "ipython",
    "version": 3
   },
   "file_extension": ".py",
   "mimetype": "text/x-python",
   "name": "python",
   "nbconvert_exporter": "python",
   "pygments_lexer": "ipython3",
   "version": "3.6.4"
  }
 },
 "nbformat": 4,
 "nbformat_minor": 2
}
