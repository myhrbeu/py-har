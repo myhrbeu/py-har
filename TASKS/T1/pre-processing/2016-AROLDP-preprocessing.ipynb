{
 "cells": [
  {
   "cell_type": "markdown",
   "metadata": {},
   "source": [
    "# Pre-Processing of The 2016-AROLDP Dataset"
   ]
  },
  {
   "cell_type": "markdown",
   "metadata": {},
   "source": [
    "Directory:  \n",
    "            `S1_Dataset\\name<M/F>`  \n",
    "            `S2_Dataset\\name<M/F>`  \n",
    "Columns:  \n",
    "        > Column 1: Time in seconds starting from 0 rounded to the closest 0.025s  \n",
    "        > Column 2: Acceleration reading in G for frontal axis  \n",
    "        > Column 3: Acceleration reading in G for vertical axis  \n",
    "        > Column 4: Acceleration reading in G for lateral axis  \n",
    "        > Column 5: Id of antenna reading sensor  \n",
    "        > Column 6: Received signal strength indicator (RSSI)   \n",
    "        > Column 7: Phase  \n",
    "        > Column 8: Frequency  \n",
    "        > Column 9: Label of activity, 1: sit on bed, 2: sit on chair, 3: lying, 4: ambulating  "
   ]
  }
 ],
 "metadata": {
  "kernelspec": {
   "display_name": "Python 3",
   "language": "python",
   "name": "python3"
  },
  "language_info": {
   "codemirror_mode": {
    "name": "ipython",
    "version": 3
   },
   "file_extension": ".py",
   "mimetype": "text/x-python",
   "name": "python",
   "nbconvert_exporter": "python",
   "pygments_lexer": "ipython3",
   "version": "3.6.1"
  }
 },
 "nbformat": 4,
 "nbformat_minor": 2
}
