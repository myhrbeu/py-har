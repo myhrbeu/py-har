{
 "cells": [
  {
   "cell_type": "markdown",
   "metadata": {},
   "source": [
    "# Analysis of HAR Datasets\n",
    "\n",
    "*All these datasets are available here: \n",
    "https://drive.google.com/drive/folders/1ko3pjX5fUQpCDEMThidhJYHK-sQTgAl_?usp=sharing "
   ]
  },
  {
   "cell_type": "markdown",
   "metadata": {},
   "source": [
    "## #1 Realistic Sensor Displacement Benchmark Dataset-2014:RESSDI\n",
    "\n",
    "| Characteristic        | Value           |\n",
    "| ------------- |:-------------:|\n",
    "| Nr of Positions      | 3 | \n",
    "| Nr of Labels      | 33      | \n",
    "| Nr of Columns     | 120      |  \n",
    "| Header     |   Ts(seconds); Ts(microseconds); ( ACC_X;ACC_Y;ACC_Z;GYR_X;GYR_Y;GYR_Z;MAG_X;MAG_Y;MAG_Z; QUAT_1;QUAT_2;QUAT_3;QUAT_4; ) * 9 BodyPositions ; Label      |\n",
    "| User Age | 22-37 |\n",
    "| User Gender | 10M 07F |"
   ]
  },
  {
   "cell_type": "markdown",
   "metadata": {},
   "source": [
    "## #2 PAMAP2-2012:PAMAP2\n",
    "\n",
    "| Characteristic        | Value           |\n",
    "| ------------- |:-------------:|\n",
    "| Nr of Positions      |  3 | \n",
    "| Nr of Labels      | 25 | \n",
    "| Nr of Columns     | 54 |  \n",
    "| Header     |     Ts(s);Label; BPM;4-20 IMU Hand;21-37 IMU Chest;38-54 IMU Ankle;        |\n",
    "| User Age | 24-30 |\n",
    "| User Gender | 08M 01F |\n",
    "\n",
    "*        - The IMU sensory data contains the following columns:  \n",
    "            – 1 temperature (°C)  \n",
    "            – 2-4 3D-acceleration data (ms-2), scale: ±16g, resolution: 13-bit  \n",
    "            – 5-7 3D-acceleration data (ms-2), scale: ±6g, resolution: 13-bit  \n",
    "            – 8-10 3D-gyroscope data (rad/s)  \n",
    "            – 11-13 3D-magnetometer data (μT)  \n",
    "            – 14-17 orientation (invalid in this data collection) "
   ]
  },
  {
   "cell_type": "markdown",
   "metadata": {},
   "source": [
    "## #3 Fusion of Smartphone Motion Sensors for Physical Activity Recognition-2014:FUSMPA\n",
    "\n",
    "| Characteristic        | Value           |\n",
    "| ------------- |:-------------:|\n",
    "| Nr of Positions      | 5 | \n",
    "| Nr of Labels      | 7 | \n",
    "| Nr of Columns     | 12 |  \n",
    "| Header     | TS;Ax;Ay;Az;LAx;LAy;LAz;Gx;Gy;Gz;Mx;My;Mz;Label |\n",
    "| User Age | 25-30 |\n",
    "| User Gender | 10M 00F |\n"
   ]
  },
  {
   "cell_type": "markdown",
   "metadata": {},
   "source": [
    "## #4 OPPORTUNITY-2012:OPPTY  \n",
    "\n",
    "| Characteristic        | Value           |\n",
    "| ------------- |:-------------:|\n",
    "| Nr of Positions      | >5 | \n",
    "| Nr of Labels      | 98 | \n",
    "| Nr of Columns     | 250 |  \n",
    "| Header     |  Ts(ms); ( Accelerometer + InertialMeasurementUnit + Location ) * bodyPositions     |\n",
    "| User Age | ? |\n",
    "| User Gender | ? |"
   ]
  },
  {
   "cell_type": "markdown",
   "metadata": {},
   "source": [
    "## #5 Activity recognition with healthy older people using a batteryless wearable sensor-2016:AROLDP\n",
    "\n",
    "| Characteristic        | Value           |\n",
    "| ------------- |:-------------:|\n",
    "| Nr of Positions      | 1 | \n",
    "| Nr of Labels      | 4 | \n",
    "| Nr of Columns     | 9 |  \n",
    "| Header     | Ts;Ax;Ay;Az;IdAntenna;SignalStrengh;Phase;Frequency;Label |\n",
    "| User Age | 66-86 |\n",
    "| User Gender | ? |"
   ]
  },
  {
   "cell_type": "markdown",
   "metadata": {},
   "source": [
    "## #6 DataSet Daily Log (ADL)-2016:DALYLO\n",
    "*(con: this dataset requires a lot of pre-processing, since the dataset isn't centralized in one only file but in many)*\n",
    "\n",
    "| Characteristic        | Value           |\n",
    "| ------------- |:-------------:|\n",
    "| Nr of Positions      | >=1 | \n",
    "| Nr of Labels      | - | \n",
    "| Nr of Columns     | - |  \n",
    "| Header     | - |\n",
    "| User Age | 22-24 |\n",
    "| User Gender | 07M 00F |"
   ]
  },
  {
   "cell_type": "markdown",
   "metadata": {},
   "source": [
    "## #7 Analysis of a Smartphone-Based Architecture with Multiple Mobility Sensors for Fall Detection-2016:ANSAMO\n",
    "*(pro: we know the gender and age of each subject, thus we can have the walking signals from 2 subjects with more than 50 years old)  \n",
    "\n",
    "*(con: requires some pre-processing since the dataset displays each sensor values in different tables)  \n",
    "\n",
    "| Characteristic        | Value           |\n",
    "| ------------- |:-------------:|\n",
    "| Nr of Positions      | 5 | \n",
    "| Nr of Labels      | 8 | \n",
    "| Nr of Columns     | Ts;Acc;Gyro;Magn; |  \n",
    "| Header     | - |\n",
    "| User Age | 22-24 |\n",
    "| User Gender | 11M 06F |"
   ]
  },
  {
   "cell_type": "markdown",
   "metadata": {},
   "source": [
    "## #8 UniMiB SHAR-2017:UMIBSHAR\n",
    "\n",
    "*(pro: we know the gender,age,weight, and height of each subject, thus we can have the walking signals from 2 subjects with more than 50 years old)  \n",
    "\n",
    "*(con: the dataset is stored in matlab files)  \n",
    "\n",
    "| Characteristic        | Value           |\n",
    "| ------------- |:-------------:|\n",
    "| Nr of Positions      |  | \n",
    "| Nr of Labels      | ? | \n",
    "| Nr of Columns     | ? |  \n",
    "| Header     | Accelerometer; Magnitude; Ts |\n",
    "| User Age | 18-60 |\n",
    "| User Gender | 06M 24F |"
   ]
  }
 ],
 "metadata": {
  "kernelspec": {
   "display_name": "Python 3",
   "language": "python",
   "name": "python3"
  },
  "language_info": {
   "codemirror_mode": {
    "name": "ipython",
    "version": 3
   },
   "file_extension": ".py",
   "mimetype": "text/x-python",
   "name": "python",
   "nbconvert_exporter": "python",
   "pygments_lexer": "ipython3",
   "version": "3.6.1"
  }
 },
 "nbformat": 4,
 "nbformat_minor": 2
}
