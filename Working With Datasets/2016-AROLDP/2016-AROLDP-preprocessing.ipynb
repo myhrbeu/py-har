{
 "cells": [
  {
   "cell_type": "markdown",
   "metadata": {},
   "source": [
    "# Pre-Processing of The 2016-AROLDP Dataset"
   ]
  },
  {
   "cell_type": "markdown",
   "metadata": {},
   "source": [
    "Directory:  \n",
    "            `S1_Dataset\\name<M/F>`  \n",
    "            `S2_Dataset\\name<M/F>`  \n",
    "Columns:  \n",
    "        > Column 1: Time in seconds starting from 0 rounded to the closest 0.025s  \n",
    "        > Column 2: Acceleration reading in G for frontal axis  \n",
    "        > Column 3: Acceleration reading in G for vertical axis  \n",
    "        > Column 4: Acceleration reading in G for lateral axis  \n",
    "        > Column 5: Id of antenna reading sensor  \n",
    "        > Column 6: Received signal strength indicator (RSSI)   \n",
    "        > Column 7: Phase  \n",
    "        > Column 8: Frequency  \n",
    "        > Column 9: Label of activity, 1: sit on bed, 2: sit on chair, 3: lying, 4: ambulating  "
   ]
  },
  {
   "cell_type": "code",
   "execution_count": null,
   "metadata": {
    "collapsed": true
   },
   "outputs": [],
   "source": [
    "def read_file(filepath):\n",
    "    try:\n",
    "        filepath.index(\"/\");\n",
    "        array = filepath.split('/');\n",
    "        filename = array[len(array) - 1]\n",
    "    except:\n",
    "        filename = filepath\n",
    "    print(filename)\n",
    "    ## filename = UMAFall_Subject_01_ADL_Bending_1_2016-06-13_20-25-34.csv\n",
    "    array = filename.split('_')\n",
    "    subjectID = array[1] + \" \" + array[2]\n",
    "    label = array[4]\n",
    "    experiment = array[4] + \"_\" + array[5]\n",
    "    ### read csv\n",
    "    train_dataRaw = pd.read_csv(filepath)\n",
    "    ### remove first 31 lines\n",
    "    train_data = train_dataRaw.iloc[31:]\n",
    "    ### user characteristics\n",
    "    user = SUBJECTS[SUBJECTS['id'].isin([subjectID])];\n",
    "    age = user['age']\n",
    "    gender = user['gender']\n",
    "    height = user['height']\n",
    "    weight = user['weight']\n",
    "\n",
    "    return {\"filecontent\": train_data, \n",
    "             'experiment': experiment, \n",
    "             'label': label, \n",
    "             'subjectID': subjectID,\n",
    "             'filename': filename, \n",
    "             'gender': gender.values[0], \n",
    "             'age': age.values[0], \n",
    "             'height': height.values[0], \n",
    "             'weight': weight.values[0]};\n",
    "   \n",
    "\n",
    "###output = read_file(\"../../../datasets/ANSAMO-2016/UMA_ADL_FALL_Dataset/UMAFall_Subject_01_ADL_Bending_1_2016-06-13_20-25-34.csv\");"
   ]
  }
 ],
 "metadata": {
  "kernelspec": {
   "display_name": "Python 3",
   "language": "python",
   "name": "python3"
  },
  "language_info": {
   "codemirror_mode": {
    "name": "ipython",
    "version": 3
   },
   "file_extension": ".py",
   "mimetype": "text/x-python",
   "name": "python",
   "nbconvert_exporter": "python",
   "pygments_lexer": "ipython3",
   "version": "3.6.1"
  }
 },
 "nbformat": 4,
 "nbformat_minor": 2
}
